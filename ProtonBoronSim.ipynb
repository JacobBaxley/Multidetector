{
 "cells": [
  {
   "cell_type": "code",
   "execution_count": 9,
   "metadata": {},
   "outputs": [],
   "source": [
    "# Basic packages\n",
    "import numpy as np\n",
    "import pandas as pd\n",
    "import matplotlib.pyplot as plt\n",
    "from mpl_toolkits import mplot3d"
   ]
  },
  {
   "cell_type": "code",
   "execution_count": 10,
   "metadata": {},
   "outputs": [],
   "source": [
    "def gamma_calc(m1, m2, m3, m4, en1, Q):\n",
    "    \"\"\"\n",
    "    Calculates the gamma value for a given nuclear reaction based on the input parameters.\n",
    "\n",
    "    Args:\n",
    "        m1 (float): Mass of particle 1.\n",
    "        m2 (float): Mass of particle 2.\n",
    "        m3 (float): Mass of particle 3.\n",
    "        m4 (float): Mass of particle 4.\n",
    "        en1 (float): Energy of particle 1.\n",
    "        Q (float): Q-value of the reaction.\n",
    "\n",
    "    Returns:\n",
    "        float: The gamma value of the reaction.\n",
    "    \"\"\"\n",
    "    # Calculate gamma value using the input parameters.\n",
    "    return np.sqrt(m1*m3/(m2*m4)*en1/(en1+Q*(1+m1/m2)))\n",
    "\n",
    "def en3_calc(m1, m3, m4, theta_L, Q, en1):\n",
    "    \"\"\"\n",
    "        Calculate the energy of a particle produced.\n",
    "\n",
    "        Args:\n",
    "            m1 (float): mass of the initial particle\n",
    "            m3 (float): mass of the target particle\n",
    "            m4 (float): mass of the final particle\n",
    "            theta_L (float or array-like): scattering angle in degrees\n",
    "            Q (float): Q-value of reaction\n",
    "            en1 (float): energy of the initial particle\n",
    "\n",
    "        Returns:\n",
    "            np.array: array of the final particle energies for each scattering angle in theta_L\n",
    "        \"\"\"\n",
    "\n",
    "    # Convert theta_L to radians for later use in calculations.\n",
    "    theta_L = np.radians(theta_L)\n",
    "\n",
    "    # Calculate intermediate quantities v and w.\n",
    "    v = np.sqrt(m1*m3*en1)/(m3+m4)*np.cos(theta_L)\n",
    "    w = (m4*Q+en1*(m4-m1))/(m3+m4)\n",
    "    \n",
    "    # Calculate the possible positive and negative parts in the energy calculation.\n",
    "    en_test_p = v**2+w\n",
    "    en_test_n = v**2+w\n",
    "\n",
    "    # Check if the energies are real by setting negative values to NaN.\n",
    "    en_test_p[en_test_p < 0] = np.nan\n",
    "    en_test_n[en_test_n < 0] = np.nan\n",
    "\n",
    "    # Calculate the final energies of the particle by adding/subtracting the square root of the positive/negative energy part.\n",
    "    e3p_sqrt = v + np.sqrt(en_test_p)\n",
    "    e3n_sqrt = v - np.sqrt(en_test_n)\n",
    "\n",
    "    # Check if energies are negative by setting negative values to NaN.\n",
    "    e3p_sqrt[ e3p_sqrt < 0] = np.nan\n",
    "    e3n_sqrt[e3n_sqrt < 0] = np.nan\n",
    "\n",
    "    # Initialize an array of NaNs with the same length as theta_L.\n",
    "    e3_sqrt = np.full(len(theta_L), np.nan)\n",
    "\n",
    "    # Fill the final e3_sqrt array with the energy values.\n",
    "    e3_sqrt[~np.isnan(e3p_sqrt)] = e3p_sqrt[~np.isnan(e3p_sqrt)]\n",
    "    e3_sqrt[~np.isnan(e3n_sqrt)] = e3n_sqrt[~np.isnan(e3n_sqrt)]\n",
    "\n",
    "    # Find the indices where both e3p_sqrt and e3n_sqrt are not NaN.\n",
    "    w_e3p_sqrt = np.where(~np.isnan(e3p_sqrt) == True)[0]\n",
    "    w_e3n_sqrt = np.where(~np.isnan(e3n_sqrt) == True)[0]\n",
    "    #Make an array of indexes for where both e3p_sqrt and e3n_sqrt are possible\n",
    "    w_both = np.array(np.intersect1d(w_e3p_sqrt, w_e3n_sqrt))\n",
    "\n",
    "    if len(w_both) > 0:\n",
    "\n",
    "        # Create a 2D array of the positive and negative energies for each angle where both values are valid.\n",
    "        mixed = np.array([e3p_sqrt[w_both], e3n_sqrt[w_both]])\n",
    "\n",
    "        # Randomly choose between the positive and negative energies for each angle where both values are valid.\n",
    "        decide = np.random.randint(0,2,len(w_both))\n",
    "\n",
    "        # For angles where both positive and negative energies are valid, choose between the two randomly.\n",
    "        e3_sqrt[w_both] = np.choose(decide, mixed)\n",
    "\n",
    "    # Return the final particle energy values.\n",
    "    return e3_sqrt**2\n",
    "\n",
    "def theta_LtoC(theta_C, gamma):\n",
    "    \"\"\"\n",
    "    Convert theta_C in the original coordinate system to theta_L in the new coordinate system using the gamma value.\n",
    "\n",
    "    Args:\n",
    "    - theta_C (float or array): The angle(s) in degrees in the original coordinate system.\n",
    "    - gamma (float): The gamma value used in the conversion.\n",
    "\n",
    "    Returns:\n",
    "    - theta_L (float or array): The corresponding angle(s) in degrees in the new coordinate system.\n",
    "    \"\"\"\n",
    "    # Calculate theta_L using the input parameters.\n",
    "    theta_L = np.degrees(np.arctan(np.sin(np.radians(theta_C))/(gamma+np.cos(np.radians(theta_C)))))\n",
    "\n",
    "    # Check if the angle is 0 or 180 degrees in the original coordinate system.\n",
    "    # If so, set the corresponding angle in the new coordinate system to 0 or 180 degrees.\n",
    "    theta_L[theta_C == 0] = 0\n",
    "    theta_L[theta_C == 180] = 180\n",
    "\n",
    "    # Add 180 degrees to the angle if it is negative.\n",
    "    theta_L[theta_L < 0] = theta_L[theta_L < 0] + 180\n",
    "\n",
    "    return theta_L\n",
    "\n",
    "def en4_calc(en1, en3, Q):\n",
    "    \"\"\"\n",
    "    Calculates the energy of particle 4 based on the energies of particles 1 and 3, and the Q-value of the reaction.\n",
    "\n",
    "    Args:\n",
    "        en1 (float): Energy of particle 1.\n",
    "        en3 (float): Energy of particle 3.\n",
    "        Q (float): Q-value of the reaction.\n",
    "\n",
    "    Returns:\n",
    "        float: Energy of particle 4.\n",
    "    \"\"\"\n",
    "    return en1 + Q - en3\n",
    "\n",
    "def phi_L_calc(theta_L, m3, en3, m4, en4):\n",
    "    \"\"\"\n",
    "    Calculates the phi_L angle given the theta_L angle and the energies and masses of the particles involved.\n",
    "\n",
    "    Args:\n",
    "    theta_L (float or numpy.ndarray): The theta_L angle(s) in degrees.\n",
    "    m3 (float): The mass of particle 3.\n",
    "    en3 (float): The energy of particle 3.\n",
    "    m4 (float): The mass of particle 4.\n",
    "    en4 (float): The energy of particle 4.\n",
    "\n",
    "    Returns:\n",
    "    phi_L (float or numpy.ndarray): The phi_L angle(s) in degrees.\n",
    "    \"\"\"\n",
    "    # Calculate the constant factor in the formula.\n",
    "    constant = np.sqrt(2*m3*en3)/np.sqrt(2*m4*en4)\n",
    "\n",
    "    # Calculate the phi_L angle(s) using the input theta_L angle(s).\n",
    "    phi_L = np.degrees(np.arcsin(np.clip(constant*np.sin(np.radians(theta_L)), -1, 1)))\n",
    "\n",
    "    return phi_L\n",
    "\n",
    "def gamma_disintegration(mi, m1, m2, eni, Q):\n",
    "    \"\"\"\n",
    "    Calculates the gamma value for a nuclear disintegration process.\n",
    "\n",
    "    Args:\n",
    "    mi (float): The initial mass of the nucleus before disintegration.\n",
    "    m1 (float): The mass of one of the resulting nuclei after disintegration.\n",
    "    m2 (float): The mass of the other resulting nucleus after disintegration.\n",
    "    eni (float): The initial energy of the nucleus before disintegration.\n",
    "    Q (float): The energy released during the disintegration process.\n",
    "\n",
    "    Returns:\n",
    "    float: The gamma value for the disintegration process.\n",
    "    \"\"\"\n",
    "    return m1/np.sqrt(m1*m2*Q/(m1+m2))*np.sqrt(eni/mi) #calculate gamma\n",
    "\n",
    "def convert_to_cartesian_zx(r, theta):\n",
    "    \"\"\"\n",
    "    Convert polar coordinates to Cartesian coordinates in a z-x plane.\n",
    "    \n",
    "    Args:\n",
    "    r (float or array-like): radial distance from the origin\n",
    "    theta (float or array-like): polar angle in degrees\n",
    "    \n",
    "    Returns:\n",
    "    x (float or array-like): x-coordinate(s)\n",
    "    y (float or array-like): y-coordinate(s)\n",
    "    z (float or array-like): z-coordinate(s)\n",
    "    \"\"\"\n",
    "    \n",
    "    # Calculate the x-coordinate using sine function.\n",
    "    x = r*np.sin(np.radians(theta))\n",
    "\n",
    "    # Initialize y-coordinate with zeros.\n",
    "    # This assumes a z-x plane where the y-coordinate is 0.\n",
    "    if isinstance(theta, (list, tuple, np.ndarray)):\n",
    "        y = np.zeros_like(theta)\n",
    "    else:\n",
    "        y = 0\n",
    "\n",
    "    # Calculate the z-coordinate using cosine function.\n",
    "    z = r*np.cos(np.radians(theta))\n",
    "\n",
    "    # Return the x, y, and z coordinates.\n",
    "    return x,y,z\n",
    "\n",
    "def rotate_z(x, y, z, theta):\n",
    "    \"\"\"\n",
    "    Rotate the given 3D points around the z-axis by the given angle.\n",
    "    \n",
    "    Args:\n",
    "    x (numpy.ndarray): An array of x-coordinates of the 3D points.\n",
    "    y (numpy.ndarray): An array of y-coordinates of the 3D points.\n",
    "    z (numpy.ndarray): An array of z-coordinates of the 3D points.\n",
    "    theta (float): The angle in degrees to rotate the points.\n",
    "    \n",
    "    Returns:\n",
    "    tuple: A tuple of three numpy.ndarray objects representing the x, y, and z coordinates of the rotated points.\n",
    "    \"\"\"\n",
    "    \n",
    "    # Note this rotates cw staring at the x-y plane\n",
    "    # Stack x, y, z along the first axis to create a (N, 3) shaped array `points`\n",
    "    points = np.stack((x, y, z), axis=1)\n",
    "\n",
    "    # Calculate the cosine and sine of the rotation angle `theta`\n",
    "    cos_theta = np.cos(np.radians(theta))\n",
    "    sin_theta = np.sin(np.radians(theta))\n",
    "\n",
    "    # Create the rotation matrix around the z-axis\n",
    "    # The shape of the rotation matrix is (3, 3, N) where N is the number of points\n",
    "    rotation_matrix = np.stack((\n",
    "        np.stack((cos_theta, -sin_theta, np.zeros_like(theta)), axis=1),\n",
    "        np.stack((sin_theta, cos_theta, np.zeros_like(theta)), axis=1),\n",
    "        np.stack((np.zeros_like(theta), np.zeros_like(theta), np.ones_like(theta)), axis=1)\n",
    "    ), axis=2)\n",
    "\n",
    "    # Perform matrix multiplication between the rotation matrix and the points\n",
    "    rotated_points = np.matmul(rotation_matrix, points[:, :, np.newaxis])\n",
    "\n",
    "    # Extract the rotated x, y, and z values from the rotated_points\n",
    "    rx = rotated_points[:, 0, 0]\n",
    "    ry = rotated_points[:, 1, 0]\n",
    "    rz = rotated_points[:, 2, 0]\n",
    "\n",
    "    # Return the rotated x, y, and z values\n",
    "    return rx, ry, rz\n",
    "\n",
    "def rotate_y(x, y, z, theta):\n",
    "    \"\"\"\n",
    "    Rotates the coordinates around the y-axis by an angle theta.\n",
    "    \n",
    "    Args:\n",
    "    x (numpy.ndarray): x-coordinates of the points\n",
    "    y (numpy.ndarray): y-coordinates of the points\n",
    "    z (numpy.ndarray): z-coordinates of the points\n",
    "    theta (float): angle of rotation in degrees\n",
    "    \n",
    "    Returns:\n",
    "    A tuple containing:\n",
    "        - rx (numpy.ndarray): x-coordinates of the rotated points\n",
    "        - ry (numpy.ndarray): y-coordinates of the rotated points\n",
    "        - rz (numpy.ndarray): z-coordinates of the rotated points\n",
    "    \"\"\"\n",
    "    # Stack x, y, z along the first axis to create a (N, 3) shaped array `points`\n",
    "    points = np.stack((x, y, z), axis=1)\n",
    "\n",
    "    # Calculate the cosine and sine of the rotation angle `theta`\n",
    "    cos_theta = np.cos(np.radians(theta))\n",
    "    sin_theta = np.sin(np.radians(theta))\n",
    "\n",
    "    # Create the rotation matrix around the y-axis\n",
    "    # The shape of the rotation matrix is (3, 3, N) where N is the number of points\n",
    "    rotation_matrix = np.stack((\n",
    "        np.stack((cos_theta, np.zeros_like(theta), sin_theta), axis=1),\n",
    "        np.stack((np.zeros_like(theta), np.ones_like(theta), np.zeros_like(theta)), axis=1),\n",
    "        np.stack((-sin_theta, np.zeros_like(theta), cos_theta), axis=1)\n",
    "    ), axis=2)\n",
    "\n",
    "    # Perform matrix multiplication between the rotation matrix and the points\n",
    "    rotated_points = np.matmul(rotation_matrix, points[:, :, np.newaxis])\n",
    "\n",
    "    # Extract the rotated x, y, and z values from the rotated_points\n",
    "    rx = rotated_points[:, 0, 0]\n",
    "    ry = rotated_points[:, 1, 0]\n",
    "    rz = rotated_points[:, 2, 0]\n",
    "\n",
    "    # Return the rotated x, y, and z values\n",
    "    return rx, ry, rz\n",
    "\n",
    "def convert_to_cartesian(r, theta, phi):\n",
    "    \"\"\"\n",
    "    Convert polar coordinates to Cartesian coordinates.\n",
    "\n",
    "    Args:\n",
    "    r (float or array-like): radial distance from the origin\n",
    "    theta (float or array-like): polar angle in radians\n",
    "    phi (float or array-like): azimuthal angle in radians\n",
    "\n",
    "    Returns:\n",
    "    x (float or array-like): x-coordinate in Cartesian coordinates\n",
    "    y (float or array-like): y-coordinate in Cartesian coordinates\n",
    "    z (float or array-like): z-coordinate in Cartesian coordinates\n",
    "    \"\"\"\n",
    "    # Calculate the x-coordinate using sine and cosine functions.\n",
    "    x = r*np.sin(theta)*np.cos(phi)\n",
    "\n",
    "    # Calculate the y-coordinate using sine and sine functions.\n",
    "    y = r*np.sin(theta)*np.sin(phi)\n",
    "\n",
    "    # Calculate the z-coordinate using cosine function.\n",
    "    z = r*np.cos(theta)\n",
    "\n",
    "    # Return the x, y, and z coordinates.\n",
    "    return x, y, z\n",
    "\n",
    "def angle_between(v1, v2):\n",
    "    \"\"\"\n",
    "    Calculate the angle between two vectors v1 and v2.\n",
    "\n",
    "    Args:\n",
    "    v1 (array-like): Array of shape (N,3) representing N vectors with 3 components.\n",
    "    v2 (array-like): Array of shape (N,3) representing N vectors with 3 components.\n",
    "\n",
    "    Returns:\n",
    "    array-like: Array of shape (N,) containing the angles in degrees between the two vectors.\n",
    "    \"\"\"\n",
    "    # Normalize the vectors to unit vectors\n",
    "    u1 = v1/np.linalg.norm(v1, axis=1)[:,np.newaxis]\n",
    "    u2 = v2/np.linalg.norm(v2, axis=1)[:,np.newaxis]\n",
    "\n",
    "    # Calculate the dot product between the two unit vectors to get cosine of the angle\n",
    "    cos_theta = np.dot(u1,u2.T)\n",
    "\n",
    "    # Use arccos to get the angle in radians and convert to degrees\n",
    "    return np.degrees(np.arccos(np.clip(cos_theta, -1.0, 1.0)))\n",
    "\n",
    "def elastic_calc(m1, m2, theta_C, en1):\n",
    "    \"\"\"\n",
    "    Calculates the energy and angle of a scattered proton in an elastic scattering event.\n",
    "\n",
    "    Args:\n",
    "        m1 (float): mass of incident particle (in atomic mass units)\n",
    "        m2 (float): mass of target particle (in atomic mass units)\n",
    "        theta_C (float): angle of incidence (in degrees)\n",
    "        en1 (float): energy of incident particle (in MeV)\n",
    "\n",
    "    Returns:\n",
    "        Tuple[float, float]: A tuple containing the final energy of the scattered proton (in MeV)\n",
    "        and the corresponding angle of scattering (in degrees).\n",
    "    \"\"\"\n",
    "\n",
    "    # Convert the scattering angle from degrees to radians.\n",
    "    theta_C = np.radians(theta_C)\n",
    "    \n",
    "    # Calculate the initial velocity of the incoming proton using its kinetic energy.\n",
    "    v_in = np.sqrt(2/m1*en1)\n",
    "\n",
    "    # Calculate the final velocity of the scattered proton using the conservation of momentum and energy.\n",
    "    v_out = np.sqrt(v_in**2*(1-2*(1-np.cos(theta_C))*m1*m2/((m1+m2)**2)))\n",
    "\n",
    "    # Calculate the final kinetic energy of the scattered proton.\n",
    "    en_f = 1/2*m1*v_out**2\n",
    "\n",
    "    # Calculate the lab angle of the scattered proton.\n",
    "    theta_L = np.arctan(np.sin(theta_C)/(m1/m2+np.cos(theta_C)))\n",
    "\n",
    "    # Return the final kinetic energy and lab angle of the scattered proton.\n",
    "    return en_f, np.degrees(theta_L)\n",
    "\n",
    "def diff_cross_section(z1, z2, m1, m2, en, theta):\n",
    "    \"\"\"\n",
    "    Calculates the differential cross section for Rutherford scattering.\n",
    "\n",
    "    Args:\n",
    "    z1 (int): atomic number of the incident particle\n",
    "    z2 (int): atomic number of the target particle\n",
    "    m1 (float): mass of the incident particle (units: arbitrary, but must be consistent with m2)\n",
    "    m2 (float): mass of the target particle (units: arbitrary, but must be consistent with m1)\n",
    "    en (float): kinetic energy of the incident particle in MeV\n",
    "    theta (float): scattering angle of the incident particle in degrees\n",
    "    \n",
    "    Returns:\n",
    "    float: differential cross section in units of cm^2/sr\n",
    "    \"\"\"\n",
    "\n",
    "    # Define the electric charge squared constant in MeV cm\n",
    "    electric_charge_sq = 1.4398*10**-13 #MeV cm\n",
    "\n",
    "    # Convert the scattering angle from degrees to radians\n",
    "    theta = np.radians(theta)\n",
    "\n",
    "    # Calculate the first factor in the equation using the input parameters\n",
    "    first_factor = ((z1*z2*electric_charge_sq)/(4*en))**2\n",
    "\n",
    "    # Calculate the second factor in the equation using the input parameter\n",
    "    second_factor = 4/(np.sin(theta)**4)\n",
    "\n",
    "    # Calculate the third factor's numerator in the equation using the input parameters\n",
    "    third_factor_numerator = ((1-((m1/m2)*np.sin(theta))**2)**(1/2)+np.cos(theta))**2\n",
    "\n",
    "    # Calculate the third factor's denominator in the equation using the input parameters\n",
    "    third_factor_denominator =(1-((m1/m2)*np.sin(theta))**2)**(1/2)\n",
    "\n",
    "    # Calculate the differential cross section using the first, second, and third factors\n",
    "    return first_factor*second_factor*third_factor_numerator/third_factor_denominator\n",
    "\n",
    "def kinematic_factor(m1, m2, theta):\n",
    "    \"\"\"\n",
    "    Calculates the kinematic factor for scattering between two particles with masses m1 and m2 and scattering angle theta.\n",
    "\n",
    "    Args:\n",
    "    - m1 (float): mass of the first particle (units: arbitrary, but must be consistent with m2)\n",
    "    - m2 (float): mass of the second particle (units: arbitrary, but must be consistent with m1)\n",
    "    - theta (float): scattering angle in degrees (units: degrees)\n",
    "\n",
    "    Returns:\n",
    "    - float: the kinematic factor for the given masses and scattering angle (ratio)\n",
    "    \"\"\"\n",
    "\n",
    "    # convert scattering angle from degrees to radians\n",
    "    theta = np.radians(theta)\n",
    "\n",
    "    # calculate numerator and denominator of kinematic factor equation\n",
    "    numerator = ((1-(m1/m2)**2*np.sin(theta)**2)**(1/2) + (m1/m2)*np.cos(theta))\n",
    "    denominator = 1 + m1/m2\n",
    "\n",
    "    # calculate and return the kinematic factor\n",
    "    return (numerator/denominator)**2\n",
    "\n",
    "def solid_angle(det_distance, det_area):\n",
    "    \"\"\"\n",
    "    Calculates the solid angle for a detector with a given distance and area.\n",
    "    \n",
    "    Args:\n",
    "    - det_distance (float): the distance between the detector and the target in centimeters.\n",
    "    - det_area (float): the area of the detector in square centimeters.\n",
    "    \n",
    "    Returns:\n",
    "    - solid_angle (float): the solid angle subtended by the detector in steradians.\n",
    "    \"\"\"\n",
    "    a = np.sqrt(det_area/np.pi) # Calculate the radius of the detector from its area\n",
    "\n",
    "    # Calculate the half-angle subtended by the detector using the inverse tangent function\n",
    "    theta = np.arctan(np.clip(a/det_distance, -1, 1))\n",
    "\n",
    "    return 2*np.pi*(1-np.cos(theta)) # Calculate the solid angle"
   ]
  },
  {
   "cell_type": "code",
   "execution_count": 11,
   "metadata": {},
   "outputs": [],
   "source": [
    "mp=1.00727646 # mass of proton\n",
    "mB11=11.0093052 # mass of B11\n",
    "mAlpha=4.002602 # mass of alpha\n",
    "mBe8=8.00530510 # mass of Be8\n",
    "QBe8=8.586 # Q value of Be8\n",
    "QBe8s=5.65 # Q value of excited Be8\n",
    "Qa=0.092 # Q value for alpha_12 from non-excited Be8\n",
    "Qas=3.028 # Q value for alpha_12 from excited Be8\n",
    "enp = 0.66 # MeV energy of proton\n",
    "zp = 1 # atomic number for H\n",
    "zB = 5 # atomic number for B\n",
    "atoms_per_vol = 1.3091E+23 # atoms/cm^3\n",
    "thickness = 1*10**-5 #cm\n",
    "atoms_per_area = atoms_per_vol*thickness\n",
    "\n",
    "#set up detectors\n",
    "d = 2.61 # cm (2.61 cm) (Distance to the detector)\n",
    "\n",
    "# define polar angles (in degrees) of the detector positions\n",
    "det_theta_polar = [45, 45, 135, 135, 225, 225, 315, 315]\n",
    "\n",
    "# convert polar angles to cartesian coordinates using the function `convert_to_cartesian_zx`\n",
    "detector_x, detector_y, detector_z = convert_to_cartesian_zx(d, det_theta_polar)\n",
    "\n",
    "# define rotation angles (in degrees) for the detectors around the z-axis\n",
    "rot_theta_det = [-45, 45, -45, 45, -45, 45, -45, 45]\n",
    "\n",
    "# rotate the detectors around the z-axis using the function `rotate_z`\n",
    "detector_x, detector_y, detector_z = rotate_z(detector_x, detector_y, detector_z, rot_theta_det)\n",
    "\n",
    "detector_area = 0.13#.066 #cm^2 (2.4 mm * 2.8 mm)\n",
    "r_detector = np.sqrt(detector_area/np.pi) #radius of detector assuming circle\n",
    "min_angle = np.degrees(np.arctan(np.clip(r_detector/d,-1,1))) #minimum angle that will go into the detector"
   ]
  },
  {
   "cell_type": "code",
   "execution_count": 12,
   "metadata": {},
   "outputs": [],
   "source": [
    "# Set total number of reactions\n",
    "total_reactions = 1*10**7\n",
    "\n",
    "# Generate uniformly distributed random angles for the first reaction\n",
    "theta_C_array1 = np.random.uniform(0,180,total_reactions)\n",
    "\n",
    "# Generate uniformly distributed random angles for the first and second reaction\n",
    "r1_phiL = np.random.uniform(0,360,total_reactions)\n",
    "r2_phiL = np.random.uniform(0,360,total_reactions)\n",
    "\n",
    "# Randomly select Q values for the first reaction from QBe8 and QBe8s with probabilities 0.01 and 0.99 respectively\n",
    "Q1 = np.random.choice([QBe8,QBe8s],total_reactions,p=[0.01,0.99])\n",
    "\n",
    "# Calculate gamma1, theta_L1, en_alpha_01, en_Be8, and phi_L1 for the first reaction\n",
    "gamma1 = gamma_calc(mp, mB11, mAlpha, mAlpha, enp, Q1)\n",
    "theta_L1 = theta_LtoC(theta_C_array1, gamma1)\n",
    "en_alpha_01 = en3_calc(mp, mAlpha, mBe8, theta_L1, Q1, enp)\n",
    "en_Be8 = en4_calc(enp, en_alpha_01, Q1)\n",
    "phi_L1 = phi_L_calc(theta_L1, mAlpha, en_alpha_01, mBe8, en_Be8)\n",
    "\n",
    "# Generate uniformly distributed random angles for the second reaction\n",
    "theta_C_array2 = np.random.uniform(0,180,total_reactions)\n",
    "\n",
    "# Set Q2 values for the second reaction\n",
    "Q2 = np.full((len(Q1)),Qas)\n",
    "Q2[Q1 == QBe8] = Qa\n",
    "\n",
    "# Calculate gamma2, theta_L2, en_alpha_11, en_alpha_12, and phi_L2 for the second reaction\n",
    "gamma2 = gamma_disintegration(mBe8, mAlpha, mAlpha, en_Be8, Q2)\n",
    "theta_L2 = theta_LtoC(theta_C_array2, gamma2)\n",
    "en_alpha_11 = en3_calc(mBe8, mAlpha, mAlpha, theta_L2, Q2, en_Be8)\n",
    "en_alpha_12 = en4_calc(en_Be8, en_alpha_11, Q2)\n",
    "phi_L2 = phi_L_calc(theta_L2, mAlpha, en_alpha_11, mAlpha, en_alpha_12)\n",
    "\n",
    "# Convert to 3D coordinates\n",
    "# First reaction\n",
    "alpha_01_x, alpha_01_y, alpha_01_z = convert_to_cartesian_zx(d, theta_L1)\n",
    "Be8_x, Be8_y, Be8_z = convert_to_cartesian_zx(d, 360 - phi_L1)\n",
    "\n",
    "# Rotate the coordinate system for the first reaction\n",
    "alpha_01_x, alpha_01_y, alpha_01_z = rotate_z(alpha_01_x, alpha_01_y, alpha_01_z, r1_phiL)\n",
    "Be8_x, Be8_y, Be8_z = rotate_z(Be8_x, Be8_y, Be8_z, r1_phiL)\n",
    "\n",
    "# Second reaction\n",
    "\n",
    "# Convert spherical coordinates to Cartesian coordinates for alpha particles 11 and 12\n",
    "alpha_11_x, alpha_11_y, alpha_11_z = convert_to_cartesian_zx(d, theta_L2)\n",
    "alpha_12_x, alpha_12_y, alpha_12_z = convert_to_cartesian_zx(d, 360 - phi_L2)\n",
    "\n",
    "# Rotate the coordinate system for the second reaction\n",
    "alpha_11_x, alpha_11_y, alpha_11_z = rotate_z(alpha_11_x, alpha_11_y, alpha_11_z, r2_phiL)\n",
    "alpha_12_x, alpha_12_y, alpha_12_z = rotate_z(alpha_12_x, alpha_12_y, alpha_12_z, r2_phiL)\n",
    "\n",
    "alpha_11_x, alpha_11_y, alpha_11_z = rotate_y(alpha_11_x, alpha_11_y, alpha_11_z, phi_L1)\n",
    "alpha_12_x, alpha_12_y, alpha_12_z = rotate_y(alpha_12_x, alpha_12_y, alpha_12_z, phi_L1)\n",
    "\n",
    "alpha_11_x, alpha_11_y, alpha_11_z = rotate_z(alpha_11_x, alpha_11_y, alpha_11_z, r1_phiL)\n",
    "alpha_12_x, alpha_12_y, alpha_12_z = rotate_z(alpha_12_x, alpha_12_y, alpha_12_z, r1_phiL)\n",
    "\n",
    "# Check if alpha particles go into the detector\n",
    "\n",
    "# Convert alpha particle coordinates to matrices\n",
    "alpha_01_mat = np.stack((alpha_01_x, alpha_01_y, alpha_01_z), axis=1)\n",
    "alpha_11_mat = np.stack((alpha_11_x, alpha_11_y, alpha_11_z), axis=1)\n",
    "alpha_12_mat = np.stack((alpha_12_x, alpha_12_y, alpha_12_z), axis=1)\n",
    "det_mat = np.stack((detector_x, detector_y, detector_z), axis=1)\n",
    "\n",
    "# Determine which alpha particles hit the detectors\n",
    "alpha_01_n, alpha_01_d = np.where(angle_between(alpha_01_mat, det_mat) <= min_angle)\n",
    "alpha_11_n, alpha_11_d = np.where(angle_between(alpha_11_mat, det_mat) <= min_angle)\n",
    "alpha_12_n, alpha_12_d = np.where(angle_between(alpha_12_mat, det_mat) <= min_angle)\n",
    "\n",
    "# Combine the hit reactions into a single list and remove duplicates\n",
    "reactions_hit = np.unique(np.sort(np.hstack((alpha_01_n, alpha_11_n, alpha_12_n)).ravel()))\n",
    "\n",
    "# Identify alpha particles that hit more than one detector\n",
    "u, i = np.unique(np.sort(np.hstack((alpha_01_n, alpha_11_n, alpha_12_n)).ravel()), return_inverse=True)\n",
    "duplicates = u[np.bincount(i) > 1]\n",
    "\n",
    "# Create a boolean array that indicates which alpha particles hit multiple detectors\n",
    "multiple_hits = np.full(np.shape(en_alpha_01), False)\n",
    "multiple_hits[duplicates] = True\n",
    "multiple_hits = multiple_hits[reactions_hit]\n",
    "\n",
    "# Assign detector numbers to each alpha particle that hit a detector\n",
    "alpha_01_det = np.full(np.shape(en_alpha_01), np.nan) # Create an array of NaN values of the same shape as en_alpha_01\n",
    "alpha_01_det[alpha_01_n] = alpha_01_d # Assign the detector number to alpha_01_det array at the positions where alpha_01_n has a non-zero value\n",
    "alpha_01_det = alpha_01_det[reactions_hit] # Slice the alpha_01_det array to only include the indices where a reaction hit a detector\n",
    "\n",
    "alpha_11_det = np.full(np.shape(en_alpha_11), np.nan) # Create an array of NaN values of the same shape as en_alpha_11\n",
    "alpha_11_det[alpha_11_n] = alpha_11_d # Assign the detector number to alpha_11_det array at the positions where alpha_11_n has a non-zero value\n",
    "alpha_11_det = alpha_11_det[reactions_hit] # Slice the alpha_11_det array to only include the indices where a reaction hit a detector\n",
    "\n",
    "alpha_12_det = np.full(np.shape(en_alpha_12), np.nan) # Create an array of NaN values of the same shape as en_alpha_12\n",
    "alpha_12_det[alpha_12_n] = alpha_12_d # Assign the detector number to alpha_12_det array at the positions where alpha_12_n has a non-zero value\n",
    "alpha_12_det = alpha_12_det[reactions_hit] # Slice the alpha_12_det array to only include the indices where a reaction hit a detector\n",
    "\n",
    "# Create a list of tuples containing energies and detector numbers of each alpha particle that hit a detector\n",
    "alpha_tuples = list(zip(en_alpha_01[reactions_hit], en_alpha_11[reactions_hit], en_alpha_12[reactions_hit], alpha_01_det, alpha_11_det, alpha_12_det, multiple_hits))\n",
    "\n",
    "# Create a Pandas DataFrame using the alpha_tuples list, where each column corresponds to a specific property of the alpha particles that hit a detector.\n",
    "alpha_df = pd.DataFrame(alpha_tuples, columns=[\"en_a_01\", \"en_a_11\", \"en_a_12\", \"a_01_det\", \"a_11_det\", \"a_12_det\", \"multiple_det\"])\n"
   ]
  },
  {
   "cell_type": "code",
   "execution_count": 16,
   "metadata": {},
   "outputs": [
    {
     "data": {
      "text/html": [
       "<div>\n",
       "<style scoped>\n",
       "    .dataframe tbody tr th:only-of-type {\n",
       "        vertical-align: middle;\n",
       "    }\n",
       "\n",
       "    .dataframe tbody tr th {\n",
       "        vertical-align: top;\n",
       "    }\n",
       "\n",
       "    .dataframe thead th {\n",
       "        text-align: right;\n",
       "    }\n",
       "</style>\n",
       "<table border=\"1\" class=\"dataframe\">\n",
       "  <thead>\n",
       "    <tr style=\"text-align: right;\">\n",
       "      <th></th>\n",
       "      <th>en_a_01</th>\n",
       "      <th>en_a_11</th>\n",
       "      <th>en_a_12</th>\n",
       "      <th>a_01_det</th>\n",
       "      <th>a_11_det</th>\n",
       "      <th>a_12_det</th>\n",
       "      <th>multiple_det</th>\n",
       "    </tr>\n",
       "  </thead>\n",
       "  <tbody>\n",
       "    <tr>\n",
       "      <th>0</th>\n",
       "      <td>4.454165</td>\n",
       "      <td>0.233328</td>\n",
       "      <td>4.650507</td>\n",
       "      <td>NaN</td>\n",
       "      <td>7.0</td>\n",
       "      <td>NaN</td>\n",
       "      <td>False</td>\n",
       "    </tr>\n",
       "    <tr>\n",
       "      <th>1</th>\n",
       "      <td>4.661636</td>\n",
       "      <td>2.095340</td>\n",
       "      <td>2.581024</td>\n",
       "      <td>NaN</td>\n",
       "      <td>0.0</td>\n",
       "      <td>NaN</td>\n",
       "      <td>False</td>\n",
       "    </tr>\n",
       "    <tr>\n",
       "      <th>2</th>\n",
       "      <td>3.730549</td>\n",
       "      <td>4.317837</td>\n",
       "      <td>1.289614</td>\n",
       "      <td>NaN</td>\n",
       "      <td>7.0</td>\n",
       "      <td>NaN</td>\n",
       "      <td>False</td>\n",
       "    </tr>\n",
       "    <tr>\n",
       "      <th>3</th>\n",
       "      <td>4.616414</td>\n",
       "      <td>4.622343</td>\n",
       "      <td>0.099243</td>\n",
       "      <td>NaN</td>\n",
       "      <td>6.0</td>\n",
       "      <td>NaN</td>\n",
       "      <td>False</td>\n",
       "    </tr>\n",
       "    <tr>\n",
       "      <th>4</th>\n",
       "      <td>4.548475</td>\n",
       "      <td>0.114122</td>\n",
       "      <td>4.675403</td>\n",
       "      <td>6.0</td>\n",
       "      <td>NaN</td>\n",
       "      <td>NaN</td>\n",
       "      <td>False</td>\n",
       "    </tr>\n",
       "    <tr>\n",
       "      <th>...</th>\n",
       "      <td>...</td>\n",
       "      <td>...</td>\n",
       "      <td>...</td>\n",
       "      <td>...</td>\n",
       "      <td>...</td>\n",
       "      <td>...</td>\n",
       "      <td>...</td>\n",
       "    </tr>\n",
       "    <tr>\n",
       "      <th>177818</th>\n",
       "      <td>4.514736</td>\n",
       "      <td>1.796310</td>\n",
       "      <td>3.026954</td>\n",
       "      <td>NaN</td>\n",
       "      <td>NaN</td>\n",
       "      <td>0.0</td>\n",
       "      <td>False</td>\n",
       "    </tr>\n",
       "    <tr>\n",
       "      <th>177819</th>\n",
       "      <td>4.317723</td>\n",
       "      <td>1.470986</td>\n",
       "      <td>3.549291</td>\n",
       "      <td>NaN</td>\n",
       "      <td>6.0</td>\n",
       "      <td>NaN</td>\n",
       "      <td>False</td>\n",
       "    </tr>\n",
       "    <tr>\n",
       "      <th>177820</th>\n",
       "      <td>3.783583</td>\n",
       "      <td>0.367499</td>\n",
       "      <td>5.186918</td>\n",
       "      <td>2.0</td>\n",
       "      <td>NaN</td>\n",
       "      <td>NaN</td>\n",
       "      <td>False</td>\n",
       "    </tr>\n",
       "    <tr>\n",
       "      <th>177821</th>\n",
       "      <td>3.646434</td>\n",
       "      <td>5.678185</td>\n",
       "      <td>0.013382</td>\n",
       "      <td>NaN</td>\n",
       "      <td>NaN</td>\n",
       "      <td>1.0</td>\n",
       "      <td>False</td>\n",
       "    </tr>\n",
       "    <tr>\n",
       "      <th>177822</th>\n",
       "      <td>4.742745</td>\n",
       "      <td>4.411944</td>\n",
       "      <td>0.183311</td>\n",
       "      <td>NaN</td>\n",
       "      <td>NaN</td>\n",
       "      <td>6.0</td>\n",
       "      <td>False</td>\n",
       "    </tr>\n",
       "  </tbody>\n",
       "</table>\n",
       "<p>177823 rows × 7 columns</p>\n",
       "</div>"
      ],
      "text/plain": [
       "         en_a_01   en_a_11   en_a_12  a_01_det  a_11_det  a_12_det  \\\n",
       "0       4.454165  0.233328  4.650507       NaN       7.0       NaN   \n",
       "1       4.661636  2.095340  2.581024       NaN       0.0       NaN   \n",
       "2       3.730549  4.317837  1.289614       NaN       7.0       NaN   \n",
       "3       4.616414  4.622343  0.099243       NaN       6.0       NaN   \n",
       "4       4.548475  0.114122  4.675403       6.0       NaN       NaN   \n",
       "...          ...       ...       ...       ...       ...       ...   \n",
       "177818  4.514736  1.796310  3.026954       NaN       NaN       0.0   \n",
       "177819  4.317723  1.470986  3.549291       NaN       6.0       NaN   \n",
       "177820  3.783583  0.367499  5.186918       2.0       NaN       NaN   \n",
       "177821  3.646434  5.678185  0.013382       NaN       NaN       1.0   \n",
       "177822  4.742745  4.411944  0.183311       NaN       NaN       6.0   \n",
       "\n",
       "        multiple_det  \n",
       "0              False  \n",
       "1              False  \n",
       "2              False  \n",
       "3              False  \n",
       "4              False  \n",
       "...              ...  \n",
       "177818         False  \n",
       "177819         False  \n",
       "177820         False  \n",
       "177821         False  \n",
       "177822         False  \n",
       "\n",
       "[177823 rows x 7 columns]"
      ]
     },
     "execution_count": 16,
     "metadata": {},
     "output_type": "execute_result"
    }
   ],
   "source": [
    "alpha_df"
   ]
  },
  {
   "cell_type": "code",
   "execution_count": 17,
   "metadata": {},
   "outputs": [
    {
     "data": {
      "text/html": [
       "<div>\n",
       "<style scoped>\n",
       "    .dataframe tbody tr th:only-of-type {\n",
       "        vertical-align: middle;\n",
       "    }\n",
       "\n",
       "    .dataframe tbody tr th {\n",
       "        vertical-align: top;\n",
       "    }\n",
       "\n",
       "    .dataframe thead th {\n",
       "        text-align: right;\n",
       "    }\n",
       "</style>\n",
       "<table border=\"1\" class=\"dataframe\">\n",
       "  <thead>\n",
       "    <tr style=\"text-align: right;\">\n",
       "      <th></th>\n",
       "      <th>en_a_01</th>\n",
       "      <th>en_a_11</th>\n",
       "      <th>en_a_12</th>\n",
       "      <th>a_01_det</th>\n",
       "      <th>a_11_det</th>\n",
       "      <th>a_12_det</th>\n",
       "      <th>multiple_det</th>\n",
       "    </tr>\n",
       "  </thead>\n",
       "  <tbody>\n",
       "    <tr>\n",
       "      <th>7</th>\n",
       "      <td>4.615968</td>\n",
       "      <td>0.096259</td>\n",
       "      <td>4.625773</td>\n",
       "      <td>NaN</td>\n",
       "      <td>2.0</td>\n",
       "      <td>6.0</td>\n",
       "      <td>True</td>\n",
       "    </tr>\n",
       "    <tr>\n",
       "      <th>362</th>\n",
       "      <td>3.786302</td>\n",
       "      <td>0.063991</td>\n",
       "      <td>5.487707</td>\n",
       "      <td>2.0</td>\n",
       "      <td>NaN</td>\n",
       "      <td>6.0</td>\n",
       "      <td>True</td>\n",
       "    </tr>\n",
       "    <tr>\n",
       "      <th>567</th>\n",
       "      <td>4.550432</td>\n",
       "      <td>4.699096</td>\n",
       "      <td>0.088472</td>\n",
       "      <td>1.0</td>\n",
       "      <td>NaN</td>\n",
       "      <td>7.0</td>\n",
       "      <td>True</td>\n",
       "    </tr>\n",
       "    <tr>\n",
       "      <th>660</th>\n",
       "      <td>3.760991</td>\n",
       "      <td>0.148100</td>\n",
       "      <td>5.428909</td>\n",
       "      <td>2.0</td>\n",
       "      <td>NaN</td>\n",
       "      <td>6.0</td>\n",
       "      <td>True</td>\n",
       "    </tr>\n",
       "    <tr>\n",
       "      <th>721</th>\n",
       "      <td>3.770282</td>\n",
       "      <td>0.552079</td>\n",
       "      <td>5.015639</td>\n",
       "      <td>3.0</td>\n",
       "      <td>1.0</td>\n",
       "      <td>NaN</td>\n",
       "      <td>True</td>\n",
       "    </tr>\n",
       "    <tr>\n",
       "      <th>...</th>\n",
       "      <td>...</td>\n",
       "      <td>...</td>\n",
       "      <td>...</td>\n",
       "      <td>...</td>\n",
       "      <td>...</td>\n",
       "      <td>...</td>\n",
       "      <td>...</td>\n",
       "    </tr>\n",
       "    <tr>\n",
       "      <th>177501</th>\n",
       "      <td>4.570204</td>\n",
       "      <td>0.122959</td>\n",
       "      <td>4.644837</td>\n",
       "      <td>6.0</td>\n",
       "      <td>NaN</td>\n",
       "      <td>0.0</td>\n",
       "      <td>True</td>\n",
       "    </tr>\n",
       "    <tr>\n",
       "      <th>177607</th>\n",
       "      <td>3.639981</td>\n",
       "      <td>3.474391</td>\n",
       "      <td>2.223629</td>\n",
       "      <td>NaN</td>\n",
       "      <td>7.0</td>\n",
       "      <td>1.0</td>\n",
       "      <td>True</td>\n",
       "    </tr>\n",
       "    <tr>\n",
       "      <th>177628</th>\n",
       "      <td>3.633817</td>\n",
       "      <td>3.039614</td>\n",
       "      <td>2.664569</td>\n",
       "      <td>NaN</td>\n",
       "      <td>7.0</td>\n",
       "      <td>1.0</td>\n",
       "      <td>True</td>\n",
       "    </tr>\n",
       "    <tr>\n",
       "      <th>177728</th>\n",
       "      <td>6.676730</td>\n",
       "      <td>0.844596</td>\n",
       "      <td>1.816674</td>\n",
       "      <td>NaN</td>\n",
       "      <td>7.0</td>\n",
       "      <td>7.0</td>\n",
       "      <td>True</td>\n",
       "    </tr>\n",
       "    <tr>\n",
       "      <th>177771</th>\n",
       "      <td>3.785000</td>\n",
       "      <td>0.488937</td>\n",
       "      <td>5.064063</td>\n",
       "      <td>5.0</td>\n",
       "      <td>7.0</td>\n",
       "      <td>NaN</td>\n",
       "      <td>True</td>\n",
       "    </tr>\n",
       "  </tbody>\n",
       "</table>\n",
       "<p>2081 rows × 7 columns</p>\n",
       "</div>"
      ],
      "text/plain": [
       "         en_a_01   en_a_11   en_a_12  a_01_det  a_11_det  a_12_det  \\\n",
       "7       4.615968  0.096259  4.625773       NaN       2.0       6.0   \n",
       "362     3.786302  0.063991  5.487707       2.0       NaN       6.0   \n",
       "567     4.550432  4.699096  0.088472       1.0       NaN       7.0   \n",
       "660     3.760991  0.148100  5.428909       2.0       NaN       6.0   \n",
       "721     3.770282  0.552079  5.015639       3.0       1.0       NaN   \n",
       "...          ...       ...       ...       ...       ...       ...   \n",
       "177501  4.570204  0.122959  4.644837       6.0       NaN       0.0   \n",
       "177607  3.639981  3.474391  2.223629       NaN       7.0       1.0   \n",
       "177628  3.633817  3.039614  2.664569       NaN       7.0       1.0   \n",
       "177728  6.676730  0.844596  1.816674       NaN       7.0       7.0   \n",
       "177771  3.785000  0.488937  5.064063       5.0       7.0       NaN   \n",
       "\n",
       "        multiple_det  \n",
       "7               True  \n",
       "362             True  \n",
       "567             True  \n",
       "660             True  \n",
       "721             True  \n",
       "...              ...  \n",
       "177501          True  \n",
       "177607          True  \n",
       "177628          True  \n",
       "177728          True  \n",
       "177771          True  \n",
       "\n",
       "[2081 rows x 7 columns]"
      ]
     },
     "execution_count": 17,
     "metadata": {},
     "output_type": "execute_result"
    }
   ],
   "source": [
    "alpha_df.loc[(alpha_df[\"multiple_det\"] == True)]"
   ]
  },
  {
   "cell_type": "code",
   "execution_count": 7,
   "metadata": {},
   "outputs": [
    {
     "data": {
      "image/png": "[encoded data removed]",
      "text/plain": [
       "<Figure size 640x480 with 1 Axes>"
      ]
     },
     "metadata": {},
     "output_type": "display_data"
    }
   ],
   "source": [
    "# Concatenate the energies of alpha particles that hit detector 0 and had multiple hits\n",
    "detector_0 = np.concatenate((\n",
    "    alpha_df.loc[(alpha_df[\"multiple_det\"] == True) & (alpha_df[\"a_01_det\"] == 0)].en_a_01,\n",
    "    alpha_df.loc[(alpha_df[\"multiple_det\"] == True) & (alpha_df[\"a_11_det\"] == 0)].en_a_11,\n",
    "    alpha_df.loc[(alpha_df[\"multiple_det\"] == True) & (alpha_df[\"a_12_det\"] == 0)].en_a_12\n",
    "))\n",
    "\n",
    "# Create a histogram of the energies of alpha particles that hit detector 0\n",
    "fig, ax = plt.subplots()\n",
    "ax.hist(detector_0, bins=500, label=\"det=0\")\n",
    "ax.legend()\n",
    "ax.set_xlabel('Energy (MeV)')\n",
    "ax.set_ylabel('Count')\n",
    "plt.show()"
   ]
  },
  {
   "cell_type": "code",
   "execution_count": 18,
   "metadata": {},
   "outputs": [
    {
     "data": {
      "text/plain": [
       "827"
      ]
     },
     "execution_count": 18,
     "metadata": {},
     "output_type": "execute_result"
    }
   ],
   "source": [
    "len(detector_0)"
   ]
  },
  {
   "cell_type": "code",
   "execution_count": 8,
   "metadata": {},
   "outputs": [
    {
     "data": {
      "image/png": "[encoded data removed]",
      "text/plain": [
       "<Figure size 640x480 with 1 Axes>"
      ]
     },
     "metadata": {},
     "output_type": "display_data"
    }
   ],
   "source": [
    "# Concatenate the energies of alpha particles that hit detector 1 and had multiple hits\n",
    "detector_1 = np.concatenate((\n",
    "    alpha_df.loc[(alpha_df[\"multiple_det\"] == True) & (alpha_df[\"a_01_det\"] == 1)].en_a_01,\n",
    "    alpha_df.loc[(alpha_df[\"multiple_det\"] == True) & (alpha_df[\"a_11_det\"] == 1)].en_a_11,\n",
    "    alpha_df.loc[(alpha_df[\"multiple_det\"] == True) & (alpha_df[\"a_12_det\"] == 1)].en_a_12\n",
    "))\n",
    "\n",
    "# Create a histogram of the energies of alpha particles that hit detector 1\n",
    "fig, ax = plt.subplots()\n",
    "ax.hist(detector_1, bins=500, label=\"det=1\")\n",
    "ax.legend()\n",
    "ax.set_xlabel('Energy (MeV)')\n",
    "ax.set_ylabel('Count')\n",
    "plt.show()"
   ]
  },
  {
   "cell_type": "code",
   "execution_count": 19,
   "metadata": {},
   "outputs": [
    {
     "data": {
      "image/png": "[encoded data removed]",
      "text/plain": [
       "<Figure size 640x480 with 1 Axes>"
      ]
     },
     "metadata": {},
     "output_type": "display_data"
    }
   ],
   "source": [
    "# Concatenate the energies of alpha particles that hit detector 2 and had multiple hits\n",
    "detector_2 = np.concatenate((\n",
    "    alpha_df.loc[(alpha_df[\"multiple_det\"] == True) & (alpha_df[\"a_01_det\"] == 2)].en_a_01,\n",
    "    alpha_df.loc[(alpha_df[\"multiple_det\"] == True) & (alpha_df[\"a_11_det\"] == 2)].en_a_11,\n",
    "    alpha_df.loc[(alpha_df[\"multiple_det\"] == True) & (alpha_df[\"a_12_det\"] == 2)].en_a_12\n",
    "))\n",
    "\n",
    "# Create a histogram of the energies of alpha particles that hit detector 2\n",
    "fig, ax = plt.subplots()\n",
    "ax.hist(detector_2, bins=500, label=\"det=2\")\n",
    "ax.legend()\n",
    "ax.set_xlabel('Energy (MeV)')\n",
    "ax.set_ylabel('Count')\n",
    "plt.show()"
   ]
  },
  {
   "cell_type": "code",
   "execution_count": 20,
   "metadata": {},
   "outputs": [
    {
     "data": {
      "text/plain": [
       "220"
      ]
     },
     "execution_count": 20,
     "metadata": {},
     "output_type": "execute_result"
    }
   ],
   "source": [
    "len(detector_2)"
   ]
  },
  {
   "cell_type": "code",
   "execution_count": 10,
   "metadata": {},
   "outputs": [
    {
     "data": {
      "image/png": "[encoded data removed]",
      "text/plain": [
       "<Figure size 640x480 with 1 Axes>"
      ]
     },
     "metadata": {},
     "output_type": "display_data"
    }
   ],
   "source": [
    "# Concatenate the energies of alpha particles that hit detector 3 and had multiple hits\n",
    "detector_3 = np.concatenate((\n",
    "    alpha_df.loc[(alpha_df[\"multiple_det\"] == True) & (alpha_df[\"a_01_det\"] == 3)].en_a_01,\n",
    "    alpha_df.loc[(alpha_df[\"multiple_det\"] == True) & (alpha_df[\"a_11_det\"] == 3)].en_a_11,\n",
    "    alpha_df.loc[(alpha_df[\"multiple_det\"] == True) & (alpha_df[\"a_12_det\"] == 3)].en_a_12\n",
    "))\n",
    "\n",
    "# Create a histogram of the energies of alpha particles that hit detector 3\n",
    "fig, ax = plt.subplots()\n",
    "ax.hist(detector_3, bins=500, label=\"det=3\")\n",
    "ax.legend()\n",
    "ax.set_xlabel('Energy (MeV)')\n",
    "ax.set_ylabel('Count')\n",
    "plt.show()"
   ]
  },
  {
   "cell_type": "code",
   "execution_count": 11,
   "metadata": {},
   "outputs": [
    {
     "data": {
      "image/png": "[encoded data removed]",
      "text/plain": [
       "<Figure size 640x480 with 1 Axes>"
      ]
     },
     "metadata": {},
     "output_type": "display_data"
    }
   ],
   "source": [
    "# Concatenate the energies of alpha particles that hit detector 4 and had multiple hits\n",
    "detector_4 = np.concatenate((\n",
    "    alpha_df.loc[(alpha_df[\"multiple_det\"] == True) & (alpha_df[\"a_01_det\"] == 4)].en_a_01,\n",
    "    alpha_df.loc[(alpha_df[\"multiple_det\"] == True) & (alpha_df[\"a_11_det\"] == 4)].en_a_11,\n",
    "    alpha_df.loc[(alpha_df[\"multiple_det\"] == True) & (alpha_df[\"a_12_det\"] == 4)].en_a_12\n",
    "))\n",
    "\n",
    "# Create a histogram of the energies of alpha particles that hit detector 4\n",
    "fig, ax = plt.subplots()\n",
    "ax.hist(detector_4, bins=500, label=\"det=4\")\n",
    "ax.legend()\n",
    "ax.set_xlabel('Energy (MeV)')\n",
    "ax.set_ylabel('Count')\n",
    "plt.show()"
   ]
  },
  {
   "cell_type": "code",
   "execution_count": 12,
   "metadata": {},
   "outputs": [
    {
     "data": {
      "image/png": "[encoded data removed]",
      "text/plain": [
       "<Figure size 640x480 with 1 Axes>"
      ]
     },
     "metadata": {},
     "output_type": "display_data"
    }
   ],
   "source": [
    "# Concatenate the energies of alpha particles that hit detector 5 and had multiple hits\n",
    "detector_5 = np.concatenate((\n",
    "    alpha_df.loc[(alpha_df[\"multiple_det\"] == True) & (alpha_df[\"a_01_det\"] == 5)].en_a_01,\n",
    "    alpha_df.loc[(alpha_df[\"multiple_det\"] == True) & (alpha_df[\"a_11_det\"] == 5)].en_a_11,\n",
    "    alpha_df.loc[(alpha_df[\"multiple_det\"] == True) & (alpha_df[\"a_12_det\"] == 5)].en_a_12\n",
    "))\n",
    "\n",
    "# Create a histogram of the energies of alpha particles that hit detector 5\n",
    "fig, ax = plt.subplots()\n",
    "ax.hist(detector_5, bins=500, label=\"det=5\")\n",
    "ax.legend()\n",
    "ax.set_xlabel('Energy (MeV)')\n",
    "ax.set_ylabel('Count')\n",
    "plt.show()"
   ]
  },
  {
   "cell_type": "code",
   "execution_count": 13,
   "metadata": {},
   "outputs": [
    {
     "data": {
      "image/png": "[encoded data removed]",
      "text/plain": [
       "<Figure size 640x480 with 1 Axes>"
      ]
     },
     "metadata": {},
     "output_type": "display_data"
    }
   ],
   "source": [
    "# Concatenate the energies of alpha particles that hit detector 6 and had multiple hits\n",
    "detector_6 = np.concatenate((\n",
    "    alpha_df.loc[(alpha_df[\"multiple_det\"] == True) & (alpha_df[\"a_01_det\"] == 6)].en_a_01,\n",
    "    alpha_df.loc[(alpha_df[\"multiple_det\"] == True) & (alpha_df[\"a_11_det\"] == 6)].en_a_11,\n",
    "    alpha_df.loc[(alpha_df[\"multiple_det\"] == True) & (alpha_df[\"a_12_det\"] == 6)].en_a_12\n",
    "))\n",
    "\n",
    "# Create a histogram of the energies of alpha particles that hit detector 6\n",
    "fig, ax = plt.subplots()\n",
    "ax.hist(detector_6, bins=500, label=\"det=6\")\n",
    "ax.legend()\n",
    "ax.set_xlabel('Energy (MeV)')\n",
    "ax.set_ylabel('Count')\n",
    "plt.show()"
   ]
  },
  {
   "cell_type": "code",
   "execution_count": 14,
   "metadata": {},
   "outputs": [
    {
     "data": {
      "image/png": "[encoded data removed]",
      "text/plain": [
       "<Figure size 640x480 with 1 Axes>"
      ]
     },
     "metadata": {},
     "output_type": "display_data"
    }
   ],
   "source": [
    "# Concatenate the energies of alpha particles that hit detector 7 and had multiple hits\n",
    "detector_7 = np.concatenate((\n",
    "    alpha_df.loc[(alpha_df[\"multiple_det\"] == True) & (alpha_df[\"a_01_det\"] == 7)].en_a_01,\n",
    "    alpha_df.loc[(alpha_df[\"multiple_det\"] == True) & (alpha_df[\"a_11_det\"] == 7)].en_a_11,\n",
    "    alpha_df.loc[(alpha_df[\"multiple_det\"] == True) & (alpha_df[\"a_12_det\"] == 7)].en_a_12\n",
    "))\n",
    "\n",
    "# Create a histogram of the energies of alpha particles that hit detector 7\n",
    "fig, ax = plt.subplots()\n",
    "ax.hist(detector_7, bins=500, label=\"det=7\")\n",
    "ax.legend()\n",
    "ax.set_xlabel('Energy (MeV)')\n",
    "ax.set_ylabel('Count')\n",
    "plt.show()"
   ]
  },
  {
   "cell_type": "code",
   "execution_count": 15,
   "metadata": {},
   "outputs": [
    {
     "data": {
      "text/plain": [
       "<function matplotlib.pyplot.show(close=None, block=None)>"
      ]
     },
     "execution_count": 15,
     "metadata": {},
     "output_type": "execute_result"
    },
    {
     "data": {
      "image/png": "[encoded data removed]",
      "text/plain": [
       "<Figure size 640x480 with 1 Axes>"
      ]
     },
     "metadata": {},
     "output_type": "display_data"
    }
   ],
   "source": [
    "fig = plt.figure()\n",
    "ax = fig.add_subplot(projection='3d')\n",
    "\n",
    "#detectors\n",
    "ax.scatter3D(detector_x, detector_y, detector_z, \"blue\")\n",
    "\n",
    "det_num = np.arange(len(detector_x))\n",
    "\n",
    "for x,y,z,s in zip(detector_x, detector_y, detector_z, det_num):\n",
    "    ax.text(x, y, z, s)\n",
    "\n",
    "# ax.plot3D([0, a10_x[0]], [0, a10_y[0]], [0, a10_z[0]], \"green\")\n",
    "# ax.plot3D([0, Be_x[0]],[0, Be_y[0]],[0, Be_z[0]], \"red\")\n",
    "\n",
    "# ax.plot3D([0, a11_x[0]],[0, a11_y[0]],[0, a11_z[0]], \"orange\")\n",
    "# ax.plot3D([0, a12_x[0]],[0, a12_y[0]],[0, a12_z[0]], \"pink\")\n",
    "\n",
    "# ax.scatter3D(rx, ry, rz, \"green\")\n",
    "# ax.plot3D(rx, ry, rz, \"green\")\n",
    "\n",
    "# ax.scatter3D(0, 0, 0, \"red\")\n",
    "\n",
    "ax.plot3D([0,0],[0,0],[0,-max(detector_z)], \"red\")\n",
    "\n",
    "ax.scatter3D(0,0,0, c=\"black\")\n",
    "\n",
    "ax.set_xlabel('X')\n",
    "ax.set_ylabel('Y')\n",
    "ax.set_zlabel('Z')\n",
    "\n",
    "ax.view_init(-140, 30)\n",
    "\n",
    "plt.show"
   ]
  },
  {
   "cell_type": "code",
   "execution_count": 20,
   "metadata": {},
   "outputs": [
    {
     "data": {
      "text/plain": [
       "1.3091000000000003e+18"
      ]
     },
     "execution_count": 20,
     "metadata": {},
     "output_type": "execute_result"
    }
   ],
   "source": [
    "atoms_per_area"
   ]
  },
  {
   "cell_type": "code",
   "execution_count": 8,
   "metadata": {},
   "outputs": [
    {
     "data": {
      "text/plain": [
       "3.4659480572842456e-24"
      ]
     },
     "execution_count": 8,
     "metadata": {},
     "output_type": "execute_result"
    }
   ],
   "source": [
    "diff_cross_section(zp, zB, mp, mB11, enp, 45)"
   ]
  },
  {
   "cell_type": "code",
   "execution_count": 26,
   "metadata": {},
   "outputs": [
    {
     "data": {
      "text/plain": [
       "0.01899718381792446"
      ]
     },
     "execution_count": 26,
     "metadata": {},
     "output_type": "execute_result"
    }
   ],
   "source": [
    "solid_angle(d, detector_area)"
   ]
  },
  {
   "cell_type": "code",
   "execution_count": 19,
   "metadata": {},
   "outputs": [
    {
     "data": {
      "text/plain": [
       "8.619540164825234e-08"
      ]
     },
     "execution_count": 19,
     "metadata": {},
     "output_type": "execute_result"
    }
   ],
   "source": [
    "diff_cross_section(zp, zB, mp, mB11, enp, 45)*solid_angle(d, detector_area)*atoms_per_area"
   ]
  },
  {
   "cell_type": "code",
   "execution_count": 23,
   "metadata": {},
   "outputs": [
    {
     "data": {
      "text/plain": [
       "0.6255210286895171"
      ]
     },
     "execution_count": 23,
     "metadata": {},
     "output_type": "execute_result"
    }
   ],
   "source": [
    "enp*kinematic_factor(mp,mB11,45)"
   ]
  },
  {
   "cell_type": "code",
   "execution_count": 17,
   "metadata": {},
   "outputs": [
    {
     "data": {
      "text/plain": [
       "1.0082097682801677e-25"
      ]
     },
     "execution_count": 17,
     "metadata": {},
     "output_type": "execute_result"
    }
   ],
   "source": [
    "diff_cross_section(zp, zB, mp, mB11, enp, 135)"
   ]
  },
  {
   "cell_type": "code",
   "execution_count": 18,
   "metadata": {},
   "outputs": [
    {
     "data": {
      "text/plain": [
       "2.50733838148439e-09"
      ]
     },
     "execution_count": 18,
     "metadata": {},
     "output_type": "execute_result"
    }
   ],
   "source": [
    "diff_cross_section(zp, zB, mp, mB11, enp, 135)*solid_angle(d, detector_area)*atoms_per_area"
   ]
  },
  {
   "cell_type": "code",
   "execution_count": 24,
   "metadata": {},
   "outputs": [
    {
     "data": {
      "text/plain": [
       "0.482458840549031"
      ]
     },
     "execution_count": 24,
     "metadata": {},
     "output_type": "execute_result"
    }
   ],
   "source": [
    "enp*kinematic_factor(mp,mB11,135)"
   ]
  },
  {
   "cell_type": "code",
   "execution_count": 6,
   "metadata": {},
   "outputs": [
    {
     "data": {
      "text/plain": [
       "4.91925799749787e-24"
      ]
     },
     "execution_count": 6,
     "metadata": {},
     "output_type": "execute_result"
    }
   ],
   "source": [
    "diff_cross_section(zp, zB, mp, mB11, enp, 41.05)"
   ]
  },
  {
   "cell_type": "code",
   "execution_count": 7,
   "metadata": {},
   "outputs": [
    {
     "data": {
      "text/plain": [
       "2.5227763066393654e-24"
      ]
     },
     "execution_count": 7,
     "metadata": {},
     "output_type": "execute_result"
    }
   ],
   "source": [
    "diff_cross_section(zp, zB, mp, mB11, enp, 48.95)"
   ]
  }
 ],
 "metadata": {
  "kernelspec": {
   "display_name": "base",
   "language": "python",
   "name": "python3"
  },
  "language_info": {
   "codemirror_mode": {
    "name": "ipython",
    "version": 3
   },
   "file_extension": ".py",
   "mimetype": "text/x-python",
   "name": "python",
   "nbconvert_exporter": "python",
   "pygments_lexer": "ipython3",
   "version": "3.7.13"
  },
  "orig_nbformat": 4,
  "vscode": {
   "interpreter": {
    "hash": "40d3a090f54c6569ab1632332b64b2c03c39dcf918b08424e98f38b5ae0af88f"
   }
  }
 },
 "nbformat": 4,
 "nbformat_minor": 2
}
