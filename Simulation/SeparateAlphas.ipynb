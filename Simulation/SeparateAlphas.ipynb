{
 "cells": [
  {
   "cell_type": "code",
   "execution_count": null,
   "id": "01948bab",
   "metadata": {},
   "outputs": [],
   "source": [
    "#clear all varaibles\n",
    "%reset"
   ]
  },
  {
   "cell_type": "code",
   "execution_count": 11,
   "id": "2fe6ab8b",
   "metadata": {},
   "outputs": [],
   "source": [
    "# Basic packages\n",
    "import numpy as np\n",
    "import pandas as pd\n",
    "import matplotlib.pyplot as plt\n",
    "from mpl_toolkits import mplot3d\n",
    "from scipy.special import legendre\n",
    "from mpmath import coulombf, coulombg, mp\n",
    "from scipy.interpolate import interp1d\n",
    "import csv"
   ]
  },
  {
   "cell_type": "code",
   "execution_count": 21,
   "id": "e124da00",
   "metadata": {},
   "outputs": [],
   "source": [
    "df_0p66C = pd.read_csv('0p66MeVCoincidence.csv')\n",
    "\n",
    "en_a_01 = np.array(df_0p66C[\"en_a_01\"])\n",
    "en_a_11 = np.array(df_0p66C[\"en_a_11\"])\n",
    "en_a_12 = np.array(df_0p66C[\"en_a_12\"])\n",
    "a_01_det = np.array(df_0p66C[\"a_01_det\"])\n",
    "a_11_det = np.array(df_0p66C[\"a_11_det\"])\n",
    "a_12_det = np.array(df_0p66C[\"a_12_det\"])"
   ]
  },
  {
   "cell_type": "code",
   "execution_count": 24,
   "id": "4b1a18ce",
   "metadata": {},
   "outputs": [
    {
     "data": {
      "text/html": [
       "<div>\n",
       "<style scoped>\n",
       "    .dataframe tbody tr th:only-of-type {\n",
       "        vertical-align: middle;\n",
       "    }\n",
       "\n",
       "    .dataframe tbody tr th {\n",
       "        vertical-align: top;\n",
       "    }\n",
       "\n",
       "    .dataframe thead th {\n",
       "        text-align: right;\n",
       "    }\n",
       "</style>\n",
       "<table border=\"1\" class=\"dataframe\">\n",
       "  <thead>\n",
       "    <tr style=\"text-align: right;\">\n",
       "      <th></th>\n",
       "      <th>Unnamed: 0</th>\n",
       "      <th>en_a_01</th>\n",
       "      <th>en_a_11</th>\n",
       "      <th>en_a_12</th>\n",
       "      <th>a_01_det</th>\n",
       "      <th>a_11_det</th>\n",
       "      <th>a_12_det</th>\n",
       "      <th>multiple_det</th>\n",
       "    </tr>\n",
       "  </thead>\n",
       "  <tbody>\n",
       "    <tr>\n",
       "      <th>0</th>\n",
       "      <td>32</td>\n",
       "      <td>3.870531</td>\n",
       "      <td>0.533623</td>\n",
       "      <td>4.948846</td>\n",
       "      <td>NaN</td>\n",
       "      <td>4.0</td>\n",
       "      <td>7.0</td>\n",
       "      <td>True</td>\n",
       "    </tr>\n",
       "    <tr>\n",
       "      <th>1</th>\n",
       "      <td>187</td>\n",
       "      <td>4.138547</td>\n",
       "      <td>3.958808</td>\n",
       "      <td>1.255645</td>\n",
       "      <td>6.0</td>\n",
       "      <td>NaN</td>\n",
       "      <td>3.0</td>\n",
       "      <td>True</td>\n",
       "    </tr>\n",
       "    <tr>\n",
       "      <th>2</th>\n",
       "      <td>275</td>\n",
       "      <td>4.308182</td>\n",
       "      <td>3.823538</td>\n",
       "      <td>1.221279</td>\n",
       "      <td>NaN</td>\n",
       "      <td>3.0</td>\n",
       "      <td>0.0</td>\n",
       "      <td>True</td>\n",
       "    </tr>\n",
       "    <tr>\n",
       "      <th>3</th>\n",
       "      <td>330</td>\n",
       "      <td>3.513963</td>\n",
       "      <td>1.193772</td>\n",
       "      <td>4.645265</td>\n",
       "      <td>6.0</td>\n",
       "      <td>1.0</td>\n",
       "      <td>NaN</td>\n",
       "      <td>True</td>\n",
       "    </tr>\n",
       "    <tr>\n",
       "      <th>4</th>\n",
       "      <td>360</td>\n",
       "      <td>3.724895</td>\n",
       "      <td>4.039042</td>\n",
       "      <td>1.589063</td>\n",
       "      <td>NaN</td>\n",
       "      <td>1.0</td>\n",
       "      <td>2.0</td>\n",
       "      <td>True</td>\n",
       "    </tr>\n",
       "    <tr>\n",
       "      <th>...</th>\n",
       "      <td>...</td>\n",
       "      <td>...</td>\n",
       "      <td>...</td>\n",
       "      <td>...</td>\n",
       "      <td>...</td>\n",
       "      <td>...</td>\n",
       "      <td>...</td>\n",
       "      <td>...</td>\n",
       "    </tr>\n",
       "    <tr>\n",
       "      <th>46689</th>\n",
       "      <td>3581675</td>\n",
       "      <td>4.502424</td>\n",
       "      <td>0.156659</td>\n",
       "      <td>4.693917</td>\n",
       "      <td>7.0</td>\n",
       "      <td>NaN</td>\n",
       "      <td>3.0</td>\n",
       "      <td>True</td>\n",
       "    </tr>\n",
       "    <tr>\n",
       "      <th>46690</th>\n",
       "      <td>3581711</td>\n",
       "      <td>4.156484</td>\n",
       "      <td>2.622824</td>\n",
       "      <td>2.573692</td>\n",
       "      <td>7.0</td>\n",
       "      <td>1.0</td>\n",
       "      <td>NaN</td>\n",
       "      <td>True</td>\n",
       "    </tr>\n",
       "    <tr>\n",
       "      <th>46691</th>\n",
       "      <td>3581811</td>\n",
       "      <td>4.875347</td>\n",
       "      <td>1.387059</td>\n",
       "      <td>3.090594</td>\n",
       "      <td>NaN</td>\n",
       "      <td>3.0</td>\n",
       "      <td>5.0</td>\n",
       "      <td>True</td>\n",
       "    </tr>\n",
       "    <tr>\n",
       "      <th>46692</th>\n",
       "      <td>3581868</td>\n",
       "      <td>4.814610</td>\n",
       "      <td>0.976400</td>\n",
       "      <td>3.561990</td>\n",
       "      <td>NaN</td>\n",
       "      <td>3.0</td>\n",
       "      <td>5.0</td>\n",
       "      <td>True</td>\n",
       "    </tr>\n",
       "    <tr>\n",
       "      <th>46693</th>\n",
       "      <td>3581917</td>\n",
       "      <td>3.920948</td>\n",
       "      <td>2.692160</td>\n",
       "      <td>2.739893</td>\n",
       "      <td>NaN</td>\n",
       "      <td>5.0</td>\n",
       "      <td>0.0</td>\n",
       "      <td>True</td>\n",
       "    </tr>\n",
       "  </tbody>\n",
       "</table>\n",
       "<p>46694 rows × 8 columns</p>\n",
       "</div>"
      ],
      "text/plain": [
       "       Unnamed: 0   en_a_01   en_a_11   en_a_12  a_01_det  a_11_det  a_12_det  \\\n",
       "0              32  3.870531  0.533623  4.948846       NaN       4.0       7.0   \n",
       "1             187  4.138547  3.958808  1.255645       6.0       NaN       3.0   \n",
       "2             275  4.308182  3.823538  1.221279       NaN       3.0       0.0   \n",
       "3             330  3.513963  1.193772  4.645265       6.0       1.0       NaN   \n",
       "4             360  3.724895  4.039042  1.589063       NaN       1.0       2.0   \n",
       "...           ...       ...       ...       ...       ...       ...       ...   \n",
       "46689     3581675  4.502424  0.156659  4.693917       7.0       NaN       3.0   \n",
       "46690     3581711  4.156484  2.622824  2.573692       7.0       1.0       NaN   \n",
       "46691     3581811  4.875347  1.387059  3.090594       NaN       3.0       5.0   \n",
       "46692     3581868  4.814610  0.976400  3.561990       NaN       3.0       5.0   \n",
       "46693     3581917  3.920948  2.692160  2.739893       NaN       5.0       0.0   \n",
       "\n",
       "       multiple_det  \n",
       "0              True  \n",
       "1              True  \n",
       "2              True  \n",
       "3              True  \n",
       "4              True  \n",
       "...             ...  \n",
       "46689          True  \n",
       "46690          True  \n",
       "46691          True  \n",
       "46692          True  \n",
       "46693          True  \n",
       "\n",
       "[46694 rows x 8 columns]"
      ]
     },
     "execution_count": 24,
     "metadata": {},
     "output_type": "execute_result"
    }
   ],
   "source": [
    "df_0p66C"
   ]
  },
  {
   "cell_type": "code",
   "execution_count": null,
   "id": "6e396d27",
   "metadata": {},
   "outputs": [],
   "source": []
  },
  {
   "cell_type": "code",
   "execution_count": 93,
   "id": "61f8da8d",
   "metadata": {},
   "outputs": [
    {
     "data": {
      "text/plain": [
       "<matplotlib.legend.Legend at 0x31eeeb200>"
      ]
     },
     "execution_count": 93,
     "metadata": {},
     "output_type": "execute_result"
    },
    {
     "data": {
      "image/png": "[encoded data removed]",
      "text/plain": [
       "<Figure size 640x480 with 1 Axes>"
      ]
     },
     "metadata": {},
     "output_type": "display_data"
    }
   ],
   "source": [
    "sel_det1 = 4.0\n",
    "sel_det2 = 6.0\n",
    "\n",
    "where_det_hit_11_12 = np.logical_and(a_11_det==sel_det1,a_12_det==sel_det2)\n",
    "where_det_hit_12_11 = np.logical_and(a_12_det==sel_det1,a_11_det==sel_det2)\n",
    "where_det_hit_01_11 = np.logical_and(a_01_det==sel_det1,a_11_det==sel_det2)\n",
    "where_det_hit_11_01 = np.logical_and(a_11_det==sel_det1,a_01_det==sel_det2)\n",
    "\n",
    "#where_det_hit_01_12 = np.logical_and(a_01_det==sel_det1,a_12_det==sel_det2)\n",
    "\n",
    "plt.scatter(en_a_11[where_det_hit_11_12],en_a_12[where_det_hit_11_12],c=\"red\",label=\"11_12\",s=1)\n",
    "plt.scatter(en_a_12[where_det_hit_12_11],en_a_11[where_det_hit_12_11],c=\"green\",label=\"12_11\",s=1)\n",
    "\n",
    "plt.scatter(en_a_01[where_det_hit_01_11],en_a_11[where_det_hit_01_11],c=\"blue\",label=\"01_11\",s=1)\n",
    "plt.scatter(en_a_11[where_det_hit_11_01],en_a_01[where_det_hit_11_01],c=\"orange\",label=\"11_01\",s=1)\n",
    "\n",
    "\n",
    "#plt.scatter(en_a_01[where_det_hit_01_12],en_a_12[where_det_hit_01_12],c=\"blue\")\n",
    "plt.title(\"Det \"+str(sel_det1)+\" and \"+\" \"+ \"Det \"+str(sel_det2))\n",
    "plt.xlabel(\"Det \"+str(sel_det1) + \" En (MeV)\")\n",
    "plt.ylabel(\"Det \"+str(sel_det2) + \" En (MeV)\")\n",
    "plt.legend()"
   ]
  },
  {
   "cell_type": "code",
   "execution_count": null,
   "id": "7751d53a",
   "metadata": {},
   "outputs": [
    {
     "data": {
      "text/plain": [
       "633"
      ]
     },
     "execution_count": 76,
     "metadata": {},
     "output_type": "execute_result"
    }
   ],
   "source": [
    "sum(where_det_hit_11_12)"
   ]
  },
  {
   "cell_type": "code",
   "execution_count": 80,
   "id": "06bfaa58",
   "metadata": {},
   "outputs": [
    {
     "data": {
      "text/plain": [
       "209"
      ]
     },
     "execution_count": 80,
     "metadata": {},
     "output_type": "execute_result"
    }
   ],
   "source": [
    "sum(where_det_hit_01_11)"
   ]
  }
 ],
 "metadata": {
  "kernelspec": {
   "display_name": "base",
   "language": "python",
   "name": "python3"
  },
  "language_info": {
   "codemirror_mode": {
    "name": "ipython",
    "version": 3
   },
   "file_extension": ".py",
   "mimetype": "text/x-python",
   "name": "python",
   "nbconvert_exporter": "python",
   "pygments_lexer": "ipython3",
   "version": "3.12.7"
  }
 },
 "nbformat": 4,
 "nbformat_minor": 5
}
